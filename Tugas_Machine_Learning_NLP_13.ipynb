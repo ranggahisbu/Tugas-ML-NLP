{
  "nbformat": 4,
  "nbformat_minor": 0,
  "metadata": {
    "colab": {
      "provenance": []
    },
    "kernelspec": {
      "name": "python3",
      "display_name": "Python 3"
    },
    "language_info": {
      "name": "python"
    }
  },
  "cells": [
    {
      "cell_type": "code",
      "execution_count": 1,
      "metadata": {
        "colab": {
          "base_uri": "https://localhost:8080/"
        },
        "id": "biHAL-4iuTf3",
        "outputId": "9eec76f7-126e-43fe-ea28-2ecfcae79b0a"
      },
      "outputs": [
        {
          "output_type": "stream",
          "name": "stdout",
          "text": [
            "Akurasi: 0.9354\n",
            "\n",
            "Classification Report:\n",
            "              precision    recall  f1-score   support\n",
            "\n",
            "           0       0.93      0.94      0.93       112\n",
            "           1       0.93      1.00      0.97       128\n",
            "           2       0.94      0.93      0.93        95\n",
            "           3       0.97      0.81      0.88        94\n",
            "           4       0.92      0.97      0.94       128\n",
            "\n",
            "    accuracy                           0.94       557\n",
            "   macro avg       0.94      0.93      0.93       557\n",
            "weighted avg       0.94      0.94      0.93       557\n",
            "\n",
            "Confusion Matrix:\n",
            "[[105   2   1   0   4]\n",
            " [  0 128   0   0   0]\n",
            " [  1   1  88   2   3]\n",
            " [  6   6   2  76   4]\n",
            " [  1   0   3   0 124]]\n"
          ]
        }
      ],
      "source": [
        "import pandas as pd\n",
        "import numpy as np\n",
        "import re\n",
        "import string\n",
        "\n",
        "from sklearn.feature_extraction.text import TfidfVectorizer\n",
        "from sklearn.naive_bayes import MultinomialNB\n",
        "from sklearn.pipeline import make_pipeline\n",
        "from sklearn.model_selection import train_test_split\n",
        "from sklearn import metrics\n",
        "\n",
        "# 1. Preprocessing\n",
        "def simple_preprocess(text):\n",
        "    text = text.lower()\n",
        "    text = re.sub(r\"\\n\", \" \", text)\n",
        "    text = re.sub(f\"[{re.escape(string.punctuation)}]\", \"\", text)\n",
        "    return text\n",
        "\n",
        "# 2. Load data\n",
        "df = pd.read_csv(\"/content/df_file.csv\")\n",
        "df[\"Text\"] = df[\"Text\"].astype(str).apply(simple_preprocess)\n",
        "\n",
        "# 3. Ambil fitur dan label\n",
        "X = df[\"Text\"]\n",
        "y = df[\"Label\"]\n",
        "\n",
        "# 4. Split data (train 75%, test 25%)\n",
        "X_train, X_test, y_train, y_test = train_test_split(X, y, test_size=0.25, random_state=42)\n",
        "\n",
        "# 5. Pipeline model\n",
        "model = make_pipeline(TfidfVectorizer(), MultinomialNB())\n",
        "\n",
        "# 6. Latih model\n",
        "model.fit(X_train, y_train)\n",
        "\n",
        "# 7. Prediksi dan evaluasi\n",
        "y_pred = model.predict(X_test)\n",
        "\n",
        "# 8. Tampilkan hasil evaluasi\n",
        "print(f\"Akurasi: {metrics.accuracy_score(y_test, y_pred):.4f}\")\n",
        "print(\"\\nClassification Report:\")\n",
        "print(metrics.classification_report(y_test, y_pred))\n",
        "\n",
        "print(\"Confusion Matrix:\")\n",
        "print(metrics.confusion_matrix(y_test, y_pred))"
      ]
    }
  ]
}
